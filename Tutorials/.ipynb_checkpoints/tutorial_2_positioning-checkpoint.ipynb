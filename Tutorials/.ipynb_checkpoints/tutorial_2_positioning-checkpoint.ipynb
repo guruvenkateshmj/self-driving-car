{
 "cells": [
  {
   "cell_type": "code",
   "execution_count": 25,
   "id": "84189703",
   "metadata": {},
   "outputs": [],
   "source": [
    "#all imports\n",
    "import carla"
   ]
  },
  {
   "cell_type": "code",
   "execution_count": 26,
   "id": "c5846eae",
   "metadata": {},
   "outputs": [],
   "source": [
    "client = carla.Client('localhost', 2000)\n",
    "\n",
    "world = client.get_world()\n",
    "spawn_points = world.get_map().get_spawn_points()\n",
    "\n",
    "vehicle_bp = world.get_blueprint_library().filter('*firetruck*')\n",
    "start_point = spawn_points[0]\n",
    "vehicle = world.try_spawn_actor(vehicle_bp[0], start_point)"
   ]
  },
  {
   "cell_type": "code",
   "execution_count": 27,
   "id": "598d2c5c",
   "metadata": {},
   "outputs": [
    {
     "name": "stdout",
     "output_type": "stream",
     "text": [
      "Transform(Location(x=-64.644844, y=24.472013, z=-0.001559), Rotation(pitch=-0.000061, yaw=0.159197, roll=0.000632))\n"
     ]
    }
   ],
   "source": [
    "# get the car's position on the map \n",
    "vehicle_pos = vehicle.get_transform()\n",
    "print(vehicle_pos)"
   ]
  },
  {
   "cell_type": "code",
   "execution_count": 28,
   "id": "33b88a12",
   "metadata": {},
   "outputs": [
    {
     "name": "stdout",
     "output_type": "stream",
     "text": [
      "Transform(Location(x=-64.644844, y=24.471010, z=0.600000), Rotation(pitch=0.000000, yaw=0.159198, roll=0.000000))\n"
     ]
    }
   ],
   "source": [
    "# initial spawn point is the same - just 0.6m higher off the ground\n",
    "print(start_point)"
   ]
  },
  {
   "cell_type": "code",
   "execution_count": 29,
   "id": "365eee2c",
   "metadata": {},
   "outputs": [],
   "source": [
    "#send vehicle off\n",
    "vehicle.set_autopilot(True)"
   ]
  },
  {
   "cell_type": "code",
   "execution_count": 30,
   "id": "233cd16e",
   "metadata": {},
   "outputs": [
    {
     "name": "stdout",
     "output_type": "stream",
     "text": [
      "Transform(Location(x=-114.478943, y=65.782814, z=-0.003669), Rotation(pitch=0.000997, yaw=90.641518, roll=0.000133))\n"
     ]
    }
   ],
   "source": [
    "# get actual position from the car moving\n",
    "vehicle_pos = vehicle.get_transform()\n",
    "print(vehicle_pos)"
   ]
  },
  {
   "cell_type": "code",
   "execution_count": 31,
   "id": "24e9be89",
   "metadata": {},
   "outputs": [],
   "source": [
    "# now look at the map\n",
    "town_map = world.get_map()"
   ]
  },
  {
   "cell_type": "code",
   "execution_count": 32,
   "id": "39caeb6f",
   "metadata": {},
   "outputs": [
    {
     "data": {
      "text/plain": [
       "carla.libcarla.Map"
      ]
     },
     "execution_count": 32,
     "metadata": {},
     "output_type": "execute_result"
    }
   ],
   "source": [
    "type(town_map)"
   ]
  },
  {
   "cell_type": "code",
   "execution_count": 33,
   "id": "ca0be330",
   "metadata": {},
   "outputs": [
    {
     "name": "stdout",
     "output_type": "stream",
     "text": [
      "Map(name=Carla/Maps/Town10HD_Opt)\n"
     ]
    }
   ],
   "source": [
    "print(town_map)"
   ]
  },
  {
   "cell_type": "code",
   "execution_count": 34,
   "id": "7b407a5b",
   "metadata": {},
   "outputs": [],
   "source": [
    "roads = town_map.get_topology()"
   ]
  },
  {
   "cell_type": "code",
   "execution_count": 35,
   "id": "e1d93d9f",
   "metadata": {},
   "outputs": [
    {
     "name": "stdout",
     "output_type": "stream",
     "text": [
      "[(<carla.libcarla.Waypoint object at 0x000001FDB52E4810>, <carla.libcarla.Waypoint object at 0x000001FDB52E4450>), (<carla.libcarla.Waypoint object at 0x000001FDB52E4870>, <carla.libcarla.Waypoint object at 0x000001FDB52E48D0>), (<carla.libcarla.Waypoint object at 0x000001FDB52E4930>, <carla.libcarla.Waypoint object at 0x000001FDB52E4990>), (<carla.libcarla.Waypoint object at 0x000001FDB52E49F0>, <carla.libcarla.Waypoint object at 0x000001FDB52E4A50>), (<carla.libcarla.Waypoint object at 0x000001FDB52E4AB0>, <carla.libcarla.Waypoint object at 0x000001FDB52E4B10>), (<carla.libcarla.Waypoint object at 0x000001FDB52E4B70>, <carla.libcarla.Waypoint object at 0x000001FDB52E4BD0>), (<carla.libcarla.Waypoint object at 0x000001FDB52E4C30>, <carla.libcarla.Waypoint object at 0x000001FDB52E4C90>), (<carla.libcarla.Waypoint object at 0x000001FDB52E4CF0>, <carla.libcarla.Waypoint object at 0x000001FDB52E4D50>), (<carla.libcarla.Waypoint object at 0x000001FDB52E4DB0>, <carla.libcarla.Waypoint object at 0x000001FDB52E4E10>), (<carla.libcarla.Waypoint object at 0x000001FDB52E4E70>, <carla.libcarla.Waypoint object at 0x000001FDB52E4ED0>), (<carla.libcarla.Waypoint object at 0x000001FDB52E4F30>, <carla.libcarla.Waypoint object at 0x000001FDB52E4F90>), (<carla.libcarla.Waypoint object at 0x000001FDB52F0030>, <carla.libcarla.Waypoint object at 0x000001FDB52F0090>), (<carla.libcarla.Waypoint object at 0x000001FDB52F00F0>, <carla.libcarla.Waypoint object at 0x000001FDB52F0150>), (<carla.libcarla.Waypoint object at 0x000001FDB52F01B0>, <carla.libcarla.Waypoint object at 0x000001FDB52F0210>), (<carla.libcarla.Waypoint object at 0x000001FDB52F0270>, <carla.libcarla.Waypoint object at 0x000001FDB52F02D0>), (<carla.libcarla.Waypoint object at 0x000001FDB52F0330>, <carla.libcarla.Waypoint object at 0x000001FDB52F0390>), (<carla.libcarla.Waypoint object at 0x000001FDB52F03F0>, <carla.libcarla.Waypoint object at 0x000001FDB52F0450>), (<carla.libcarla.Waypoint object at 0x000001FDB52F04B0>, <carla.libcarla.Waypoint object at 0x000001FDB52F0510>), (<carla.libcarla.Waypoint object at 0x000001FDB52F0570>, <carla.libcarla.Waypoint object at 0x000001FDB52F05D0>), (<carla.libcarla.Waypoint object at 0x000001FDB52F0630>, <carla.libcarla.Waypoint object at 0x000001FDB52F0690>), (<carla.libcarla.Waypoint object at 0x000001FDB52F06F0>, <carla.libcarla.Waypoint object at 0x000001FDB52F0750>), (<carla.libcarla.Waypoint object at 0x000001FDB52F07B0>, <carla.libcarla.Waypoint object at 0x000001FDB52F0810>), (<carla.libcarla.Waypoint object at 0x000001FDB52F0870>, <carla.libcarla.Waypoint object at 0x000001FDB52F08D0>), (<carla.libcarla.Waypoint object at 0x000001FDB52F0930>, <carla.libcarla.Waypoint object at 0x000001FDB52F0990>), (<carla.libcarla.Waypoint object at 0x000001FDB52F09F0>, <carla.libcarla.Waypoint object at 0x000001FDB52F0A50>), (<carla.libcarla.Waypoint object at 0x000001FDB52F0AB0>, <carla.libcarla.Waypoint object at 0x000001FDB52F0B10>), (<carla.libcarla.Waypoint object at 0x000001FDB52F0B70>, <carla.libcarla.Waypoint object at 0x000001FDB52F0BD0>), (<carla.libcarla.Waypoint object at 0x000001FDB52F0C30>, <carla.libcarla.Waypoint object at 0x000001FDB52F0C90>), (<carla.libcarla.Waypoint object at 0x000001FDB52F0CF0>, <carla.libcarla.Waypoint object at 0x000001FDB52F0D50>), (<carla.libcarla.Waypoint object at 0x000001FDB52F0DB0>, <carla.libcarla.Waypoint object at 0x000001FDB52F0E10>), (<carla.libcarla.Waypoint object at 0x000001FDB52F0E70>, <carla.libcarla.Waypoint object at 0x000001FDB52F0ED0>), (<carla.libcarla.Waypoint object at 0x000001FDB52F0F30>, <carla.libcarla.Waypoint object at 0x000001FDB52F0F90>), (<carla.libcarla.Waypoint object at 0x000001FDB52F1030>, <carla.libcarla.Waypoint object at 0x000001FDB52F1090>), (<carla.libcarla.Waypoint object at 0x000001FDB52F10F0>, <carla.libcarla.Waypoint object at 0x000001FDB52F1150>), (<carla.libcarla.Waypoint object at 0x000001FDB52F11B0>, <carla.libcarla.Waypoint object at 0x000001FDB52F1210>), (<carla.libcarla.Waypoint object at 0x000001FDB52F1270>, <carla.libcarla.Waypoint object at 0x000001FDB52F12D0>), (<carla.libcarla.Waypoint object at 0x000001FDB52F1330>, <carla.libcarla.Waypoint object at 0x000001FDB52F1390>), (<carla.libcarla.Waypoint object at 0x000001FDB52F13F0>, <carla.libcarla.Waypoint object at 0x000001FDB52F1450>), (<carla.libcarla.Waypoint object at 0x000001FDB52F14B0>, <carla.libcarla.Waypoint object at 0x000001FDB52F1510>), (<carla.libcarla.Waypoint object at 0x000001FDB52F1570>, <carla.libcarla.Waypoint object at 0x000001FDB52F15D0>), (<carla.libcarla.Waypoint object at 0x000001FDB52F1630>, <carla.libcarla.Waypoint object at 0x000001FDB52F1690>), (<carla.libcarla.Waypoint object at 0x000001FDB52F16F0>, <carla.libcarla.Waypoint object at 0x000001FDB52F1750>), (<carla.libcarla.Waypoint object at 0x000001FDB52F17B0>, <carla.libcarla.Waypoint object at 0x000001FDB52F1810>), (<carla.libcarla.Waypoint object at 0x000001FDB52F1870>, <carla.libcarla.Waypoint object at 0x000001FDB52F18D0>), (<carla.libcarla.Waypoint object at 0x000001FDB52F1930>, <carla.libcarla.Waypoint object at 0x000001FDB52F1990>), (<carla.libcarla.Waypoint object at 0x000001FDB52F19F0>, <carla.libcarla.Waypoint object at 0x000001FDB52F1A50>), (<carla.libcarla.Waypoint object at 0x000001FDB52F1AB0>, <carla.libcarla.Waypoint object at 0x000001FDB52F1B10>), (<carla.libcarla.Waypoint object at 0x000001FDB52F1B70>, <carla.libcarla.Waypoint object at 0x000001FDB52F1BD0>), (<carla.libcarla.Waypoint object at 0x000001FDB52F1C30>, <carla.libcarla.Waypoint object at 0x000001FDB52F1C90>), (<carla.libcarla.Waypoint object at 0x000001FDB52F1CF0>, <carla.libcarla.Waypoint object at 0x000001FDB52F1D50>), (<carla.libcarla.Waypoint object at 0x000001FDB52F1DB0>, <carla.libcarla.Waypoint object at 0x000001FDB52F1E10>), (<carla.libcarla.Waypoint object at 0x000001FDB52F1E70>, <carla.libcarla.Waypoint object at 0x000001FDB52F1ED0>), (<carla.libcarla.Waypoint object at 0x000001FDB52F1F30>, <carla.libcarla.Waypoint object at 0x000001FDB52F1F90>), (<carla.libcarla.Waypoint object at 0x000001FDB52F2030>, <carla.libcarla.Waypoint object at 0x000001FDB52F2090>), (<carla.libcarla.Waypoint object at 0x000001FDB52F20F0>, <carla.libcarla.Waypoint object at 0x000001FDB52F2150>), (<carla.libcarla.Waypoint object at 0x000001FDB52F21B0>, <carla.libcarla.Waypoint object at 0x000001FDB52F2210>), (<carla.libcarla.Waypoint object at 0x000001FDB52F2270>, <carla.libcarla.Waypoint object at 0x000001FDB52F22D0>), (<carla.libcarla.Waypoint object at 0x000001FDB52F2330>, <carla.libcarla.Waypoint object at 0x000001FDB52F2390>), (<carla.libcarla.Waypoint object at 0x000001FDB52F23F0>, <carla.libcarla.Waypoint object at 0x000001FDB52F2450>), (<carla.libcarla.Waypoint object at 0x000001FDB52F24B0>, <carla.libcarla.Waypoint object at 0x000001FDB52F2510>), (<carla.libcarla.Waypoint object at 0x000001FDB52F2570>, <carla.libcarla.Waypoint object at 0x000001FDB52F25D0>), (<carla.libcarla.Waypoint object at 0x000001FDB52F2630>, <carla.libcarla.Waypoint object at 0x000001FDB52F2690>), (<carla.libcarla.Waypoint object at 0x000001FDB52F26F0>, <carla.libcarla.Waypoint object at 0x000001FDB52F2750>), (<carla.libcarla.Waypoint object at 0x000001FDB52F27B0>, <carla.libcarla.Waypoint object at 0x000001FDB52F2810>), (<carla.libcarla.Waypoint object at 0x000001FDB52F2870>, <carla.libcarla.Waypoint object at 0x000001FDB52F28D0>), (<carla.libcarla.Waypoint object at 0x000001FDB52F2930>, <carla.libcarla.Waypoint object at 0x000001FDB52F2990>), (<carla.libcarla.Waypoint object at 0x000001FDB52F29F0>, <carla.libcarla.Waypoint object at 0x000001FDB52F2A50>), (<carla.libcarla.Waypoint object at 0x000001FDB52F2AB0>, <carla.libcarla.Waypoint object at 0x000001FDB52F2B10>), (<carla.libcarla.Waypoint object at 0x000001FDB52F2B70>, <carla.libcarla.Waypoint object at 0x000001FDB52F2BD0>), (<carla.libcarla.Waypoint object at 0x000001FDB52F2C30>, <carla.libcarla.Waypoint object at 0x000001FDB52F2C90>), (<carla.libcarla.Waypoint object at 0x000001FDB52F2CF0>, <carla.libcarla.Waypoint object at 0x000001FDB52F2D50>), (<carla.libcarla.Waypoint object at 0x000001FDB52F2DB0>, <carla.libcarla.Waypoint object at 0x000001FDB52F2E10>), (<carla.libcarla.Waypoint object at 0x000001FDB52F2E70>, <carla.libcarla.Waypoint object at 0x000001FDB52F2ED0>), (<carla.libcarla.Waypoint object at 0x000001FDB52F2F30>, <carla.libcarla.Waypoint object at 0x000001FDB52F2F90>), (<carla.libcarla.Waypoint object at 0x000001FDB52F3030>, <carla.libcarla.Waypoint object at 0x000001FDB52F3090>), (<carla.libcarla.Waypoint object at 0x000001FDB52F30F0>, <carla.libcarla.Waypoint object at 0x000001FDB52F3150>), (<carla.libcarla.Waypoint object at 0x000001FDB52F31B0>, <carla.libcarla.Waypoint object at 0x000001FDB52F3210>), (<carla.libcarla.Waypoint object at 0x000001FDB52F3270>, <carla.libcarla.Waypoint object at 0x000001FDB52F32D0>), (<carla.libcarla.Waypoint object at 0x000001FDB52F3330>, <carla.libcarla.Waypoint object at 0x000001FDB52F3390>), (<carla.libcarla.Waypoint object at 0x000001FDB52F33F0>, <carla.libcarla.Waypoint object at 0x000001FDB52F3450>), (<carla.libcarla.Waypoint object at 0x000001FDB52F34B0>, <carla.libcarla.Waypoint object at 0x000001FDB52F3510>), (<carla.libcarla.Waypoint object at 0x000001FDB52F3570>, <carla.libcarla.Waypoint object at 0x000001FDB52F35D0>), (<carla.libcarla.Waypoint object at 0x000001FDB52F3630>, <carla.libcarla.Waypoint object at 0x000001FDB52F3690>), (<carla.libcarla.Waypoint object at 0x000001FDB52F36F0>, <carla.libcarla.Waypoint object at 0x000001FDB52F3750>), (<carla.libcarla.Waypoint object at 0x000001FDB52F37B0>, <carla.libcarla.Waypoint object at 0x000001FDB52F3810>), (<carla.libcarla.Waypoint object at 0x000001FDB52F3870>, <carla.libcarla.Waypoint object at 0x000001FDB52F38D0>), (<carla.libcarla.Waypoint object at 0x000001FDB52F3930>, <carla.libcarla.Waypoint object at 0x000001FDB52F3990>), (<carla.libcarla.Waypoint object at 0x000001FDB52F39F0>, <carla.libcarla.Waypoint object at 0x000001FDB52F3A50>), (<carla.libcarla.Waypoint object at 0x000001FDB52F3AB0>, <carla.libcarla.Waypoint object at 0x000001FDB52F3B10>), (<carla.libcarla.Waypoint object at 0x000001FDB52F3B70>, <carla.libcarla.Waypoint object at 0x000001FDB52F3BD0>), (<carla.libcarla.Waypoint object at 0x000001FDB52F3C30>, <carla.libcarla.Waypoint object at 0x000001FDB52F3C90>), (<carla.libcarla.Waypoint object at 0x000001FDB52F3CF0>, <carla.libcarla.Waypoint object at 0x000001FDB52F3D50>), (<carla.libcarla.Waypoint object at 0x000001FDB52F3DB0>, <carla.libcarla.Waypoint object at 0x000001FDB52F3E10>), (<carla.libcarla.Waypoint object at 0x000001FDB52F3E70>, <carla.libcarla.Waypoint object at 0x000001FDB52F3ED0>), (<carla.libcarla.Waypoint object at 0x000001FDB52F3F30>, <carla.libcarla.Waypoint object at 0x000001FDB52F3F90>), (<carla.libcarla.Waypoint object at 0x000001FDB52F4030>, <carla.libcarla.Waypoint object at 0x000001FDB52F4090>), (<carla.libcarla.Waypoint object at 0x000001FDB52F40F0>, <carla.libcarla.Waypoint object at 0x000001FDB52F4150>), (<carla.libcarla.Waypoint object at 0x000001FDB52F41B0>, <carla.libcarla.Waypoint object at 0x000001FDB52F4210>), (<carla.libcarla.Waypoint object at 0x000001FDB52F4270>, <carla.libcarla.Waypoint object at 0x000001FDB52F42D0>), (<carla.libcarla.Waypoint object at 0x000001FDB52F4330>, <carla.libcarla.Waypoint object at 0x000001FDB52F4390>), (<carla.libcarla.Waypoint object at 0x000001FDB52F43F0>, <carla.libcarla.Waypoint object at 0x000001FDB52F4450>), (<carla.libcarla.Waypoint object at 0x000001FDB52F44B0>, <carla.libcarla.Waypoint object at 0x000001FDB52F4510>), (<carla.libcarla.Waypoint object at 0x000001FDB52F4570>, <carla.libcarla.Waypoint object at 0x000001FDB52F45D0>), (<carla.libcarla.Waypoint object at 0x000001FDB52F4630>, <carla.libcarla.Waypoint object at 0x000001FDB52F4690>), (<carla.libcarla.Waypoint object at 0x000001FDB52F46F0>, <carla.libcarla.Waypoint object at 0x000001FDB52F4750>), (<carla.libcarla.Waypoint object at 0x000001FDB52F47B0>, <carla.libcarla.Waypoint object at 0x000001FDB52F4810>), (<carla.libcarla.Waypoint object at 0x000001FDB52F4870>, <carla.libcarla.Waypoint object at 0x000001FDB52F48D0>), (<carla.libcarla.Waypoint object at 0x000001FDB52F4930>, <carla.libcarla.Waypoint object at 0x000001FDB52F4990>), (<carla.libcarla.Waypoint object at 0x000001FDB52F49F0>, <carla.libcarla.Waypoint object at 0x000001FDB52F4A50>), (<carla.libcarla.Waypoint object at 0x000001FDB52F4AB0>, <carla.libcarla.Waypoint object at 0x000001FDB52F4B10>), (<carla.libcarla.Waypoint object at 0x000001FDB52F4B70>, <carla.libcarla.Waypoint object at 0x000001FDB52F4BD0>), (<carla.libcarla.Waypoint object at 0x000001FDB52F4C30>, <carla.libcarla.Waypoint object at 0x000001FDB52F4C90>), (<carla.libcarla.Waypoint object at 0x000001FDB52F4CF0>, <carla.libcarla.Waypoint object at 0x000001FDB52F4D50>), (<carla.libcarla.Waypoint object at 0x000001FDB52F4DB0>, <carla.libcarla.Waypoint object at 0x000001FDB52F4E10>), (<carla.libcarla.Waypoint object at 0x000001FDB52F4E70>, <carla.libcarla.Waypoint object at 0x000001FDB52F4ED0>), (<carla.libcarla.Waypoint object at 0x000001FDB52F4F30>, <carla.libcarla.Waypoint object at 0x000001FDB52F4F90>), (<carla.libcarla.Waypoint object at 0x000001FDB52F5030>, <carla.libcarla.Waypoint object at 0x000001FDB52F5090>), (<carla.libcarla.Waypoint object at 0x000001FDB52F50F0>, <carla.libcarla.Waypoint object at 0x000001FDB52F5150>), (<carla.libcarla.Waypoint object at 0x000001FDB52F51B0>, <carla.libcarla.Waypoint object at 0x000001FDB52F5210>), (<carla.libcarla.Waypoint object at 0x000001FDB52F5270>, <carla.libcarla.Waypoint object at 0x000001FDB52F52D0>), (<carla.libcarla.Waypoint object at 0x000001FDB52F5330>, <carla.libcarla.Waypoint object at 0x000001FDB52F5390>), (<carla.libcarla.Waypoint object at 0x000001FDB52F53F0>, <carla.libcarla.Waypoint object at 0x000001FDB52F5450>), (<carla.libcarla.Waypoint object at 0x000001FDB52F54B0>, <carla.libcarla.Waypoint object at 0x000001FDB52F5510>), (<carla.libcarla.Waypoint object at 0x000001FDB52F5570>, <carla.libcarla.Waypoint object at 0x000001FDB52F55D0>), (<carla.libcarla.Waypoint object at 0x000001FDB52F5630>, <carla.libcarla.Waypoint object at 0x000001FDB52F5690>), (<carla.libcarla.Waypoint object at 0x000001FDB52F56F0>, <carla.libcarla.Waypoint object at 0x000001FDB52F5750>), (<carla.libcarla.Waypoint object at 0x000001FDB52F57B0>, <carla.libcarla.Waypoint object at 0x000001FDB52F5810>), (<carla.libcarla.Waypoint object at 0x000001FDB52F5870>, <carla.libcarla.Waypoint object at 0x000001FDB52F58D0>), (<carla.libcarla.Waypoint object at 0x000001FDB52F5930>, <carla.libcarla.Waypoint object at 0x000001FDB52F5990>), (<carla.libcarla.Waypoint object at 0x000001FDB52F59F0>, <carla.libcarla.Waypoint object at 0x000001FDB52F5A50>), (<carla.libcarla.Waypoint object at 0x000001FDB52F5AB0>, <carla.libcarla.Waypoint object at 0x000001FDB52F5B10>), (<carla.libcarla.Waypoint object at 0x000001FDB52F5B70>, <carla.libcarla.Waypoint object at 0x000001FDB52F5BD0>), (<carla.libcarla.Waypoint object at 0x000001FDB52F5C30>, <carla.libcarla.Waypoint object at 0x000001FDB52F5C90>), (<carla.libcarla.Waypoint object at 0x000001FDB52F5CF0>, <carla.libcarla.Waypoint object at 0x000001FDB52F5D50>), (<carla.libcarla.Waypoint object at 0x000001FDB52F5DB0>, <carla.libcarla.Waypoint object at 0x000001FDB52F5E10>), (<carla.libcarla.Waypoint object at 0x000001FDB52F5E70>, <carla.libcarla.Waypoint object at 0x000001FDB52F5ED0>), (<carla.libcarla.Waypoint object at 0x000001FDB52F5F30>, <carla.libcarla.Waypoint object at 0x000001FDB52F5F90>), (<carla.libcarla.Waypoint object at 0x000001FDB52F6030>, <carla.libcarla.Waypoint object at 0x000001FDB52F6090>), (<carla.libcarla.Waypoint object at 0x000001FDB52F60F0>, <carla.libcarla.Waypoint object at 0x000001FDB52F6150>), (<carla.libcarla.Waypoint object at 0x000001FDB52F61B0>, <carla.libcarla.Waypoint object at 0x000001FDB52F6210>), (<carla.libcarla.Waypoint object at 0x000001FDB52F6270>, <carla.libcarla.Waypoint object at 0x000001FDB52F62D0>), (<carla.libcarla.Waypoint object at 0x000001FDB52F6330>, <carla.libcarla.Waypoint object at 0x000001FDB52F6390>), (<carla.libcarla.Waypoint object at 0x000001FDB52F63F0>, <carla.libcarla.Waypoint object at 0x000001FDB52F6450>), (<carla.libcarla.Waypoint object at 0x000001FDB52F64B0>, <carla.libcarla.Waypoint object at 0x000001FDB52F6510>), (<carla.libcarla.Waypoint object at 0x000001FDB52F6570>, <carla.libcarla.Waypoint object at 0x000001FDB52F65D0>), (<carla.libcarla.Waypoint object at 0x000001FDB52F6630>, <carla.libcarla.Waypoint object at 0x000001FDB52F6690>), (<carla.libcarla.Waypoint object at 0x000001FDB52F66F0>, <carla.libcarla.Waypoint object at 0x000001FDB52F6750>), (<carla.libcarla.Waypoint object at 0x000001FDB52F67B0>, <carla.libcarla.Waypoint object at 0x000001FDB52F6810>), (<carla.libcarla.Waypoint object at 0x000001FDB52F6870>, <carla.libcarla.Waypoint object at 0x000001FDB52F68D0>), (<carla.libcarla.Waypoint object at 0x000001FDB52F6930>, <carla.libcarla.Waypoint object at 0x000001FDB52F6990>), (<carla.libcarla.Waypoint object at 0x000001FDB52F69F0>, <carla.libcarla.Waypoint object at 0x000001FDB52F6A50>), (<carla.libcarla.Waypoint object at 0x000001FDB52F6AB0>, <carla.libcarla.Waypoint object at 0x000001FDB52F6B10>), (<carla.libcarla.Waypoint object at 0x000001FDB52F6B70>, <carla.libcarla.Waypoint object at 0x000001FDB52F6BD0>), (<carla.libcarla.Waypoint object at 0x000001FDB52F6C30>, <carla.libcarla.Waypoint object at 0x000001FDB52F6C90>), (<carla.libcarla.Waypoint object at 0x000001FDB52F6CF0>, <carla.libcarla.Waypoint object at 0x000001FDB52F6D50>), (<carla.libcarla.Waypoint object at 0x000001FDB52F6DB0>, <carla.libcarla.Waypoint object at 0x000001FDB52F6E10>), (<carla.libcarla.Waypoint object at 0x000001FDB52F6E70>, <carla.libcarla.Waypoint object at 0x000001FDB52F6ED0>), (<carla.libcarla.Waypoint object at 0x000001FDB52F6F30>, <carla.libcarla.Waypoint object at 0x000001FDB52F6F90>), (<carla.libcarla.Waypoint object at 0x000001FDB52F7030>, <carla.libcarla.Waypoint object at 0x000001FDB52F7090>), (<carla.libcarla.Waypoint object at 0x000001FDB52F70F0>, <carla.libcarla.Waypoint object at 0x000001FDB52F7150>), (<carla.libcarla.Waypoint object at 0x000001FDB52F71B0>, <carla.libcarla.Waypoint object at 0x000001FDB52F7210>), (<carla.libcarla.Waypoint object at 0x000001FDB52F7270>, <carla.libcarla.Waypoint object at 0x000001FDB52F72D0>), (<carla.libcarla.Waypoint object at 0x000001FDB52F7330>, <carla.libcarla.Waypoint object at 0x000001FDB52F7390>), (<carla.libcarla.Waypoint object at 0x000001FDB52F73F0>, <carla.libcarla.Waypoint object at 0x000001FDB52F7450>), (<carla.libcarla.Waypoint object at 0x000001FDB52F74B0>, <carla.libcarla.Waypoint object at 0x000001FDB52F7510>), (<carla.libcarla.Waypoint object at 0x000001FDB52F7570>, <carla.libcarla.Waypoint object at 0x000001FDB52F75D0>), (<carla.libcarla.Waypoint object at 0x000001FDB52F7630>, <carla.libcarla.Waypoint object at 0x000001FDB52F7690>), (<carla.libcarla.Waypoint object at 0x000001FDB52F76F0>, <carla.libcarla.Waypoint object at 0x000001FDB52F7750>), (<carla.libcarla.Waypoint object at 0x000001FDB52F77B0>, <carla.libcarla.Waypoint object at 0x000001FDB52F7810>), (<carla.libcarla.Waypoint object at 0x000001FDB52F7870>, <carla.libcarla.Waypoint object at 0x000001FDB52F78D0>), (<carla.libcarla.Waypoint object at 0x000001FDB52F7930>, <carla.libcarla.Waypoint object at 0x000001FDB52F7990>), (<carla.libcarla.Waypoint object at 0x000001FDB52F79F0>, <carla.libcarla.Waypoint object at 0x000001FDB52F7A50>), (<carla.libcarla.Waypoint object at 0x000001FDB52F7AB0>, <carla.libcarla.Waypoint object at 0x000001FDB52F7B10>), (<carla.libcarla.Waypoint object at 0x000001FDB52F7B70>, <carla.libcarla.Waypoint object at 0x000001FDB52F7BD0>), (<carla.libcarla.Waypoint object at 0x000001FDB52F7C30>, <carla.libcarla.Waypoint object at 0x000001FDB52F7C90>), (<carla.libcarla.Waypoint object at 0x000001FDB52F7CF0>, <carla.libcarla.Waypoint object at 0x000001FDB52F7D50>), (<carla.libcarla.Waypoint object at 0x000001FDB52F7DB0>, <carla.libcarla.Waypoint object at 0x000001FDB52F7E10>), (<carla.libcarla.Waypoint object at 0x000001FDB52F7E70>, <carla.libcarla.Waypoint object at 0x000001FDB52F7ED0>), (<carla.libcarla.Waypoint object at 0x000001FDB52F7F30>, <carla.libcarla.Waypoint object at 0x000001FDB52F7F90>), (<carla.libcarla.Waypoint object at 0x000001FDB52F8030>, <carla.libcarla.Waypoint object at 0x000001FDB52F8090>), (<carla.libcarla.Waypoint object at 0x000001FDB52F80F0>, <carla.libcarla.Waypoint object at 0x000001FDB52F8150>), (<carla.libcarla.Waypoint object at 0x000001FDB52F81B0>, <carla.libcarla.Waypoint object at 0x000001FDB52F8210>), (<carla.libcarla.Waypoint object at 0x000001FDB52F8270>, <carla.libcarla.Waypoint object at 0x000001FDB52F82D0>), (<carla.libcarla.Waypoint object at 0x000001FDB52F8330>, <carla.libcarla.Waypoint object at 0x000001FDB52F8390>), (<carla.libcarla.Waypoint object at 0x000001FDB52F83F0>, <carla.libcarla.Waypoint object at 0x000001FDB52F8450>), (<carla.libcarla.Waypoint object at 0x000001FDB52F84B0>, <carla.libcarla.Waypoint object at 0x000001FDB52F8510>), (<carla.libcarla.Waypoint object at 0x000001FDB52F8570>, <carla.libcarla.Waypoint object at 0x000001FDB52F85D0>), (<carla.libcarla.Waypoint object at 0x000001FDB52F8630>, <carla.libcarla.Waypoint object at 0x000001FDB52F8690>), (<carla.libcarla.Waypoint object at 0x000001FDB52F86F0>, <carla.libcarla.Waypoint object at 0x000001FDB52F8750>), (<carla.libcarla.Waypoint object at 0x000001FDB52F87B0>, <carla.libcarla.Waypoint object at 0x000001FDB52F8810>), (<carla.libcarla.Waypoint object at 0x000001FDB52F8870>, <carla.libcarla.Waypoint object at 0x000001FDB52F88D0>), (<carla.libcarla.Waypoint object at 0x000001FDB52F8930>, <carla.libcarla.Waypoint object at 0x000001FDB52F8990>), (<carla.libcarla.Waypoint object at 0x000001FDB52F89F0>, <carla.libcarla.Waypoint object at 0x000001FDB52F8A50>), (<carla.libcarla.Waypoint object at 0x000001FDB52F8AB0>, <carla.libcarla.Waypoint object at 0x000001FDB52F8B10>), (<carla.libcarla.Waypoint object at 0x000001FDB52F8B70>, <carla.libcarla.Waypoint object at 0x000001FDB52F8BD0>), (<carla.libcarla.Waypoint object at 0x000001FDB52F8C30>, <carla.libcarla.Waypoint object at 0x000001FDB52F8C90>), (<carla.libcarla.Waypoint object at 0x000001FDB52F8CF0>, <carla.libcarla.Waypoint object at 0x000001FDB52F8D50>), (<carla.libcarla.Waypoint object at 0x000001FDB52F8DB0>, <carla.libcarla.Waypoint object at 0x000001FDB52F8E10>), (<carla.libcarla.Waypoint object at 0x000001FDB52F8E70>, <carla.libcarla.Waypoint object at 0x000001FDB52F8ED0>), (<carla.libcarla.Waypoint object at 0x000001FDB52F8F30>, <carla.libcarla.Waypoint object at 0x000001FDB52F8F90>)]\n"
     ]
    }
   ],
   "source": [
    "# topology is pairs of waypoints defining all roads - tuples of those\n",
    "print(roads)\n"
   ]
  },
  {
   "cell_type": "code",
   "execution_count": 36,
   "id": "37b9456f",
   "metadata": {},
   "outputs": [
    {
     "name": "stdout",
     "output_type": "stream",
     "text": [
      "Waypoint(Transform(Location(x=109.929878, y=-9.334196, z=0.000000), Rotation(pitch=0.000000, yaw=-89.609253, roll=0.000000)))\n"
     ]
    }
   ],
   "source": [
    "#have a look at a waypoint - it is transform wrapped as a waypoint\n",
    "print(roads[0][0])\n"
   ]
  },
  {
   "cell_type": "code",
   "execution_count": 37,
   "id": "778cfe38",
   "metadata": {},
   "outputs": [
    {
     "data": {
      "text/plain": [
       "200"
      ]
     },
     "execution_count": 37,
     "metadata": {},
     "output_type": "execute_result"
    }
   ],
   "source": [
    "len(roads)"
   ]
  },
  {
   "cell_type": "code",
   "execution_count": 18,
   "id": "9e8cf8ce",
   "metadata": {},
   "outputs": [],
   "source": [
    "# making a route\n",
    "#from one position to another\n",
    "#pos 1: Transform(Location(x=50.477512, y=141.135620, z=0.001844), Rotation(pitch=0.000007, yaw=0.318098, roll=0.000000))\n",
    "#pos 2: Transform(Location(x=-64.644844, y=24.471010, z=0.600000), Rotation(pitch=0.000000, yaw=0.159198, roll=0.000000))"
   ]
  },
  {
   "cell_type": "code",
   "execution_count": 38,
   "id": "9d789284",
   "metadata": {},
   "outputs": [],
   "source": [
    "# import some code coming with the sim\n",
    "import sys\n",
    "sys.path.append('C:/CARLA_0.9.14/PythonAPI/carla')\n",
    "from agents.navigation.global_route_planner import GlobalRoutePlanner"
   ]
  },
  {
   "cell_type": "code",
   "execution_count": 39,
   "id": "baefb365",
   "metadata": {},
   "outputs": [],
   "source": [
    "# using the code to plan the route and then draw it in the simulator\n",
    "#town10hd_map = world.get_map()\n",
    "\n",
    "sampling_resolution = 2\n",
    "\n",
    "grp = GlobalRoutePlanner(town_map, sampling_resolution)\n",
    "\n",
    "point_a = carla.Location(x=-64.644844, y=24.471010, z=0.600000)\n",
    "point_b = carla.Location(x=-114.478943, y=65.782814, z=-0.003669)\n",
    "\n",
    "route = grp.trace_route(point_a, point_b) # there are other funcations can be used to generate a route in GlobalRoutePlanner.\n",
    "\n",
    "for waypoint in route:\n",
    "    world.debug.draw_string(waypoint[0].transform.location, '^', draw_shadow=False,\n",
    "        color=carla.Color(r=0, g=0, b=255), life_time=120.0,\n",
    "        persistent_lines=True)"
   ]
  },
  {
   "cell_type": "code",
   "execution_count": 40,
   "id": "7da2021c",
   "metadata": {},
   "outputs": [],
   "source": [
    "# utility script of destruction\n",
    "\n",
    "for actor in world.get_actors().filter('*vehicle*'):\n",
    "    actor.destroy()\n",
    "for sensor in world.get_actors().filter('*sensor*'):\n",
    "    sensor.destroy()"
   ]
  },
  {
   "cell_type": "code",
   "execution_count": 41,
   "id": "b3327268",
   "metadata": {},
   "outputs": [],
   "source": [
    "# now we define 2 cars\n",
    "truck_bp = world.get_blueprint_library().filter('*firetruck*')\n",
    "mini_bp = world.get_blueprint_library().filter('*cooper_s*')\n",
    "\n",
    "#start first car in alredy defined start point\n",
    "truck = world.try_spawn_actor(truck_bp[0], start_point)"
   ]
  },
  {
   "cell_type": "code",
   "execution_count": 42,
   "id": "294fdfe1",
   "metadata": {},
   "outputs": [],
   "source": [
    "# tweak spectator position to watch the show\n",
    "\n",
    "spectator = world.get_spectator()\n",
    "spawn_points = world.get_map().get_spawn_points()\n",
    "start_point = spawn_points[0]\n",
    "\n",
    "spectator_pos = carla.Transform(start_point.location + carla.Location(x=20,y=10,z=4),\n",
    "                                carla.Rotation(yaw = start_point.rotation.yaw -155))\n",
    "\n",
    "spectator.set_transform(spectator_pos)"
   ]
  },
  {
   "cell_type": "code",
   "execution_count": 51,
   "id": "9dee8be0",
   "metadata": {},
   "outputs": [],
   "source": [
    "\n"
   ]
  },
  {
   "cell_type": "code",
   "execution_count": 43,
   "id": "894d141a",
   "metadata": {},
   "outputs": [],
   "source": [
    "# drop the Mini the sky - watch what happens after\n",
    "\n",
    "#spawn it first somewhere else\n",
    "mini = world.try_spawn_actor(mini_bp[0], spawn_points[10])\n",
    "\n",
    "mini_pos = carla.Transform(start_point.location + carla.Location(x=-4,z=10),\n",
    "                            carla.Rotation(yaw = start_point.rotation.yaw - 0))\n",
    "mini.set_transform(mini_pos)\n"
   ]
  },
  {
   "cell_type": "code",
   "execution_count": null,
   "id": "4f057b2f",
   "metadata": {},
   "outputs": [],
   "source": []
  }
 ],
 "metadata": {
  "kernelspec": {
   "display_name": "Python 3 (ipykernel)",
   "language": "python",
   "name": "python3"
  },
  "language_info": {
   "codemirror_mode": {
    "name": "ipython",
    "version": 3
   },
   "file_extension": ".py",
   "mimetype": "text/x-python",
   "name": "python",
   "nbconvert_exporter": "python",
   "pygments_lexer": "ipython3",
   "version": "3.7.16"
  }
 },
 "nbformat": 4,
 "nbformat_minor": 5
}
